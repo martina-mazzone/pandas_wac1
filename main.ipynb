{
 "cells": [
  {
   "cell_type": "code",
   "execution_count": 1,
   "metadata": {},
   "outputs": [],
   "source": [
    "import pandas as pd"
   ]
  },
  {
   "cell_type": "code",
   "execution_count": 2,
   "metadata": {},
   "outputs": [],
   "source": [
    "df = pd.read_csv('world_alcohol.csv')"
   ]
  },
  {
   "cell_type": "code",
   "execution_count": 9,
   "metadata": {},
   "outputs": [],
   "source": [
    "world_alcohol_data = pd.read_csv('world_alcohol.csv')\n",
    "exclude_list = ['Viet Nam', 'Uruguay', 'Colombia']"
   ]
  },
  {
   "cell_type": "code",
   "execution_count": 10,
   "metadata": {},
   "outputs": [
    {
     "name": "stdout",
     "output_type": "stream",
     "text": [
      "    Year       WHO region                                Country  \\\n",
      "2   1985           Africa                           Cte d'Ivoire   \n",
      "4   1987         Americas                  Saint Kitts and Nevis   \n",
      "5   1987         Americas                              Guatemala   \n",
      "6   1987           Africa                              Mauritius   \n",
      "7   1985           Africa                                 Angola   \n",
      "..   ...              ...                                    ...   \n",
      "95  1984           Africa                                  Niger   \n",
      "96  1985           Europe                             Luxembourg   \n",
      "97  1984  South-East Asia                              Indonesia   \n",
      "98  1984           Africa                      Equatorial Guinea   \n",
      "99  1985  South-East Asia  Democratic People's Republic of Korea   \n",
      "\n",
      "   Beverage Types  Display Value  \n",
      "2            Wine           1.62  \n",
      "4            Beer           1.98  \n",
      "5           Other           0.00  \n",
      "6            Wine           0.13  \n",
      "7         Spirits           0.39  \n",
      "..            ...            ...  \n",
      "95          Other           0.00  \n",
      "96           Wine           7.38  \n",
      "97           Wine           0.00  \n",
      "98           Wine           0.00  \n",
      "99           Wine           0.00  \n",
      "\n",
      "[94 rows x 5 columns]\n"
     ]
    }
   ],
   "source": [
    "# Specify the column to filter and the list of values\n",
    "filter_column = 'Country'\n",
    "exclude_list = ['Viet Nam', 'Uruguay', 'Colombia']\n",
    "\n",
    "# Filter records not appearing in the given list\n",
    "filtered_data = world_alcohol_data[~world_alcohol_data[filter_column].isin(exclude_list)]\n",
    "\n",
    "# Display the filtered dataset\n",
    "print(filtered_data)"
   ]
  }
 ],
 "metadata": {
  "kernelspec": {
   "display_name": ".venv",
   "language": "python",
   "name": "python3"
  },
  "language_info": {
   "codemirror_mode": {
    "name": "ipython",
    "version": 3
   },
   "file_extension": ".py",
   "mimetype": "text/x-python",
   "name": "python",
   "nbconvert_exporter": "python",
   "pygments_lexer": "ipython3",
   "version": "3.13.0"
  }
 },
 "nbformat": 4,
 "nbformat_minor": 2
}
